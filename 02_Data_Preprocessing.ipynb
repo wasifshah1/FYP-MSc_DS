{
 "cells": [
  {
   "cell_type": "markdown",
   "id": "8e6edcad",
   "metadata": {},
   "source": [
    "# **Part 2: Data Preprocessing**\n",
    "\n",
    "This notebook handles data cleaning, feature engineering, and preparation for modeling.\n",
    "\n",
    "---"
   ]
  },
  {
   "cell_type": "code",
   "execution_count": 1,
   "id": "d198d061",
   "metadata": {},
   "outputs": [
    {
     "name": "stdout",
     "output_type": "stream",
     "text": [
      " Libraries imported successfully!\n"
     ]
    }
   ],
   "source": [
    "# Import Libraries\n",
    "import pandas as pd\n",
    "import numpy as np\n",
    "import matplotlib.pyplot as plt\n",
    "import seaborn as sns\n",
    "from sklearn.model_selection import train_test_split\n",
    "from sklearn.preprocessing import StandardScaler, LabelEncoder\n",
    "from sklearn.cluster import KMeans\n",
    "from sklearn.decomposition import PCA\n",
    "from imblearn.over_sampling import SMOTE\n",
    "import warnings\n",
    "warnings.filterwarnings('ignore')\n",
    "\n",
    "print(' Libraries imported successfully!')"
   ]
  },
  {
   "cell_type": "code",
   "execution_count": 2,
   "id": "436a5689",
   "metadata": {},
   "outputs": [
    {
     "name": "stdout",
     "output_type": "stream",
     "text": [
      "Dataset loaded: (3150, 14)\n",
      "Data loaded and copied for preprocessing\n"
     ]
    }
   ],
   "source": [
    "# Load the dataset\n",
    "df = pd.read_csv('Customer Churn.csv')\n",
    "print(f'Dataset loaded: {df.shape}')\n",
    "\n",
    "# Create a copy for preprocessing\n",
    "df_processed = df.copy()\n",
    "print('Data loaded and copied for preprocessing')"
   ]
  },
  {
   "cell_type": "markdown",
   "id": "f668d52b",
   "metadata": {},
   "source": [
    "## 1. Data Cleaning"
   ]
  },
  {
   "cell_type": "code",
   "execution_count": 3,
   "id": "72d50d67",
   "metadata": {},
   "outputs": [
    {
     "name": "stdout",
     "output_type": "stream",
     "text": [
      "Column names cleaned\n"
     ]
    }
   ],
   "source": [
    "# Clean column names (remove extra spaces)\n",
    "df_processed.columns = df_processed.columns.str.strip()\n",
    "print('Column names cleaned')"
   ]
  },
  {
   "cell_type": "code",
   "execution_count": 5,
   "id": "17ba66e7",
   "metadata": {},
   "outputs": [
    {
     "name": "stdout",
     "output_type": "stream",
     "text": [
      "Data Quality Check:\n",
      "====================\n",
      "Missing values: 0\n",
      "Duplicate rows: 300\n"
     ]
    }
   ],
   "source": [
    "# Check for any remaining data quality issues\n",
    "print('Data Quality Check:')\n",
    "print('=' * 20)\n",
    "print(f'Missing values: {df_processed.isnull().sum().sum()}')\n",
    "print(f'Duplicate rows: {df_processed.duplicated().sum()}')"
   ]
  },
  {
   "cell_type": "code",
   "execution_count": 7,
   "id": "a841e5ed",
   "metadata": {},
   "outputs": [
    {
     "name": "stdout",
     "output_type": "stream",
     "text": [
      "\n",
      "Outlier Analysis:\n",
      "====================\n",
      "Call  Failure: 47 outliers\n",
      "Complains: 241 outliers\n",
      "Subscription  Length: 282 outliers\n",
      "Charge  Amount: 370 outliers\n",
      "Seconds of Use: 200 outliers\n",
      "Frequency of use: 129 outliers\n",
      "Frequency of SMS: 368 outliers\n",
      "Distinct Called Numbers: 77 outliers\n",
      "Age Group: 170 outliers\n",
      "Tariff Plan: 245 outliers\n",
      "Status: 782 outliers\n",
      "Age: 688 outliers\n",
      "Customer Value: 116 outliers\n",
      "Churn: 495 outliers\n"
     ]
    }
   ],
   "source": [
    "# Handle any outliers if needed\n",
    "print('\\nOutlier Analysis:')\n",
    "print('=' * 20)\n",
    "numerical_cols = df_processed.select_dtypes(include=[np.number]).columns\n",
    "for col in numerical_cols:\n",
    "    Q1 = df_processed[col].quantile(0.25)\n",
    "    Q3 = df_processed[col].quantile(0.75)\n",
    "    IQR = Q3 - Q1\n",
    "    outliers = ((df_processed[col] < (Q1 - 1.5 * IQR)) | (df_processed[col] > (Q3 + 1.5 * IQR))).sum()\n",
    "    print(f'{col}: {outliers} outliers')"
   ]
  },
  {
   "cell_type": "markdown",
   "id": "35f501f6",
   "metadata": {},
   "source": [
    "## 2. User Segmentation (Research Question 1)"
   ]
  },
  {
   "cell_type": "code",
   "execution_count": 9,
   "id": "d350c336",
   "metadata": {},
   "outputs": [
    {
     "name": "stdout",
     "output_type": "stream",
     "text": [
      "RESEARCH QUESTION 1: USER SEGMENTATION ANALYSIS\n",
      "============================================================\n",
      "\"How can we group digital service users based on their usage habits?\"\n"
     ]
    }
   ],
   "source": [
    "print('RESEARCH QUESTION 1: USER SEGMENTATION ANALYSIS')\n",
    "print('=' * 60)\n",
    "print('\"How can we group digital service users based on their usage habits?\"')"
   ]
  },
  {
   "cell_type": "code",
   "execution_count": null,
   "id": "17751a3c",
   "metadata": {},
   "outputs": [
    {
     "name": "stdout",
     "output_type": "stream",
     "text": [
      "Features for user segmentation: ['Seconds of Use', 'Frequency of use', 'Frequency of SMS', 'Distinct Called Numbers', 'Charge  Amount', 'Customer Value']n/\n"
     ]
    }
   ],
   "source": [
    "# Features for clustering (usage patterns)\n",
    "clustering_features = [\n",
    "    'Seconds of Use',           # Platform engagement time\n",
    "    'Frequency of use',         # Platform usage frequency  \n",
    "    'Frequency of SMS',         # Communication activity\n",
    "    'Distinct Called Numbers',  # Interaction diversity\n",
    "    'Charge  Amount',          # Service spending\n",
    "    'Customer Value'           # Economic value\n",
    "]\n",
    "\n",
    "print(f'Features for user segmentation: {clustering_features}')\n",
    "\n",
    "# Prepare clustering data\n",
    "X_cluster = df_processed[clustering_features].copy()\n",
    "X_cluster = X_cluster.fillna(X_cluster.median())\n",
    "\n",
    "# Standardize features\n",
    "scaler_cluster = StandardScaler()\n",
    "X_cluster_scaled = scaler_cluster.fit_transform(X_cluster)"
   ]
  },
  {
   "cell_type": "code",
   "execution_count": 15,
   "id": "03af10b4",
   "metadata": {},
   "outputs": [
    {
     "data": {
      "image/png": "[encoded data removed]",
      "text/plain": [
       "<Figure size 1000x600 with 1 Axes>"
      ]
     },
     "metadata": {},
     "output_type": "display_data"
    },
    {
     "name": "stdout",
     "output_type": "stream",
     "text": [
      "Optimal number of clusters: 4\n"
     ]
    }
   ],
   "source": [
    "# Determine optimal number of clusters using elbow method\n",
    "inertias = []\n",
    "k_range = range(2, 11)\n",
    "\n",
    "for k in k_range:\n",
    "    kmeans = KMeans(n_clusters=k, random_state=42, n_init=10)\n",
    "    kmeans.fit(X_cluster_scaled)\n",
    "    inertias.append(kmeans.inertia_)\n",
    "\n",
    "# Plot elbow curve\n",
    "plt.figure(figsize=(10, 6))\n",
    "plt.plot(k_range, inertias, 'bo-')\n",
    "plt.xlabel('Number of Clusters (k)')\n",
    "plt.ylabel('Inertia')\n",
    "plt.title('Elbow Method for Optimal k', fontweight='bold')\n",
    "plt.grid(True, alpha=0.3)\n",
    "plt.show()\n",
    "\n",
    "# Choose optimal k (typically where elbow occurs)\n",
    "optimal_k = 4  # Based on elbow method\n",
    "print(f'Optimal number of clusters: {optimal_k}')"
   ]
  },
  {
   "cell_type": "code",
   "execution_count": 17,
   "id": "1caad652",
   "metadata": {},
   "outputs": [
    {
     "name": "stdout",
     "output_type": "stream",
     "text": [
      "USER SEGMENT PROFILES:\n",
      "==============================\n",
      " High-Value Users (Segment 1):\n",
      "   Size: 1110 users (35.2%)\n",
      "   Churn Rate: 33.2%\n",
      "   Avg Usage Time: 1168 seconds\n",
      "   Avg Frequency: 21.3\n",
      "   Avg Customer Value: 97.51\n",
      "   Avg Age: 31.3 years\n",
      "\n",
      " Budget Conscious (Segment 2):\n",
      "   Size: 528 users (16.8%)\n",
      "   Churn Rate: 0.0%\n",
      "   Avg Usage Time: 12231 seconds\n",
      "   Avg Frequency: 167.2\n",
      "   Avg Customer Value: 695.34\n",
      "   Avg Age: 33.9 years\n",
      "\n",
      " Heavy Communicators (Segment 3):\n",
      "   Size: 542 users (17.2%)\n",
      "   Churn Rate: 0.9%\n",
      "   Avg Usage Time: 4238 seconds\n",
      "   Avg Frequency: 65.9\n",
      "   Avg Customer Value: 1353.27\n",
      "   Avg Age: 28.8 years\n",
      "\n",
      " At-Risk Users (Segment 4):\n",
      "   Size: 970 users (30.8%)\n",
      "   Churn Rate: 12.5%\n",
      "   Avg Usage Time: 4161 seconds\n",
      "   Avg Frequency: 73.3\n",
      "   Avg Customer Value: 283.21\n",
      "   Avg Age: 30.3 years\n",
      "\n"
     ]
    }
   ],
   "source": [
    "# Apply K-means clustering\n",
    "kmeans_final = KMeans(n_clusters=optimal_k, random_state=42, n_init=10)\n",
    "df_processed['User_Segment'] = kmeans_final.fit_predict(X_cluster_scaled)\n",
    "\n",
    "# Analyze segments\n",
    "print('USER SEGMENT PROFILES:')\n",
    "print('=' * 30)\n",
    "\n",
    "segment_names = ['High-Value Users', 'Budget Conscious', 'Heavy Communicators', 'At-Risk Users']\n",
    "\n",
    "for i in range(optimal_k):\n",
    "    segment_data = df_processed[df_processed['User_Segment'] == i]\n",
    "    segment_size = len(segment_data)\n",
    "    segment_churn_rate = segment_data['Churn'].mean()\n",
    "    \n",
    "    print(f' {segment_names[i]} (Segment {i+1}):')\n",
    "    print(f'   Size: {segment_size} users ({segment_size/len(df_processed)*100:.1f}%)')\n",
    "    print(f'   Churn Rate: {segment_churn_rate:.1%}')\n",
    "    print(f'   Avg Usage Time: {segment_data[\"Seconds of Use\"].mean():.0f} seconds')\n",
    "    print(f'   Avg Frequency: {segment_data[\"Frequency of use\"].mean():.1f}')\n",
    "    print(f'   Avg Customer Value: {segment_data[\"Customer Value\"].mean():.2f}')\n",
    "    print(f'   Avg Age: {segment_data[\"Age\"].mean():.1f} years')\n",
    "    print()"
   ]
  },
  {
   "cell_type": "markdown",
   "id": "d546c949",
   "metadata": {},
   "source": [
    "## 3. Feature Engineering"
   ]
  },
  {
   "cell_type": "code",
   "execution_count": 18,
   "id": "0793b1a1",
   "metadata": {},
   "outputs": [
    {
     "name": "stdout",
     "output_type": "stream",
     "text": [
      "ADVANCED FEATURE ENGINEERING:\n",
      "==================================================\n",
      "Original features: 14\n",
      "Enhanced features: 25\n",
      "New engineered features: 11\n"
     ]
    }
   ],
   "source": [
    "print('ADVANCED FEATURE ENGINEERING:')\n",
    "print('=' * 50)\n",
    "\n",
    "# Create interaction features combining usage patterns and demographics\n",
    "df_processed['usage_intensity'] = df_processed['Seconds of Use'] * df_processed['Frequency of use']\n",
    "df_processed['communication_score'] = df_processed['Frequency of SMS'] + df_processed['Distinct Called Numbers']\n",
    "df_processed['value_per_usage'] = df_processed['Customer Value'] / (df_processed['Seconds of Use'] + 1)\n",
    "df_processed['age_usage_ratio'] = df_processed['Age'] / (df_processed['Seconds of Use'] + 1)\n",
    "df_processed['complaint_failure_ratio'] = df_processed['Complains'] / (df_processed['Call  Failure'] + 1)\n",
    "\n",
    "# Demographic-based features\n",
    "df_processed['is_senior'] = (df_processed['Age'] >= 60).astype(int)\n",
    "df_processed['is_young_adult'] = ((df_processed['Age'] >= 18) & (df_processed['Age'] <= 35)).astype(int)\n",
    "df_processed['high_value_customer'] = (df_processed['Customer Value'] > df_processed['Customer Value'].median()).astype(int)\n",
    "\n",
    "# Usage pattern features\n",
    "df_processed['heavy_user'] = (df_processed['Seconds of Use'] > df_processed['Seconds of Use'].quantile(0.75)).astype(int)\n",
    "df_processed['frequent_communicator'] = (df_processed['Frequency of SMS'] > df_processed['Frequency of SMS'].median()).astype(int)\n",
    "\n",
    "print(f'Original features: {len(df.columns)}')\n",
    "print(f'Enhanced features: {len(df_processed.columns)}')\n",
    "print(f'New engineered features: {len(df_processed.columns) - len(df.columns)}')"
   ]
  },
  {
   "cell_type": "markdown",
   "id": "25108ced",
   "metadata": {},
   "source": [
    "## 4. Data Splitting and Scaling"
   ]
  },
  {
   "cell_type": "code",
   "execution_count": 22,
   "id": "2169c911",
   "metadata": {},
   "outputs": [
    {
     "name": "stdout",
     "output_type": "stream",
     "text": [
      "Data split completed:\n",
      "==============================\n",
      "Training set: 2520 samples\n",
      "Test set: 630 samples\n",
      "Features: 24\n",
      "Original churn rate: 15.71%\n"
     ]
    }
   ],
   "source": [
    "# Prepare features for modeling\n",
    "feature_columns = df_processed.columns.drop('Churn').tolist()\n",
    "X = df_processed[feature_columns]\n",
    "y = df_processed['Churn']\n",
    "\n",
    "# Split the data\n",
    "X_train, X_test, y_train, y_test = train_test_split(X, y, test_size=0.2, random_state=42, stratify=y)\n",
    "\n",
    "# Scale features\n",
    "scaler = StandardScaler()\n",
    "X_train_scaled = scaler.fit_transform(X_train)\n",
    "X_test_scaled = scaler.transform(X_test)\n",
    "\n",
    "print('Data split completed:')\n",
    "print('=' * 30)\n",
    "print(f'Training set: {X_train_scaled.shape[0]} samples')\n",
    "print(f'Test set: {X_test_scaled.shape[0]} samples')\n",
    "print(f'Features: {X_train_scaled.shape[1]}')\n",
    "print(f'Original churn rate: {y.mean():.2%}')"
   ]
  },
  {
   "cell_type": "markdown",
   "id": "fd1fd261",
   "metadata": {},
   "source": [
    "## 5. Handle Class Imbalance"
   ]
  },
  {
   "cell_type": "code",
   "execution_count": 26,
   "id": "f75ec916",
   "metadata": {},
   "outputs": [
    {
     "name": "stdout",
     "output_type": "stream",
     "text": [
      "Applying SMOTE for class balancing...\n",
      "========================================\n",
      "SMOTE applied successfully!\n",
      "Original training set: 2,520 samples\n",
      "Balanced training set: 4,248 samples\n",
      "Original churn rate: 15.71%\n",
      "Balanced churn rate: 50.00%\n"
     ]
    },
    {
     "data": {
      "image/png": "[encoded data removed]",
      "text/plain": [
       "<Figure size 1200x500 with 2 Axes>"
      ]
     },
     "metadata": {},
     "output_type": "display_data"
    }
   ],
   "source": [
    "# Apply SMOTE for class balance\n",
    "print('Applying SMOTE for class balancing...')\n",
    "print('=' * 40)\n",
    "smote = SMOTE(random_state=42)\n",
    "X_train_balanced, y_train_balanced = smote.fit_resample(X_train_scaled, y_train)\n",
    "\n",
    "print(f'SMOTE applied successfully!')\n",
    "print(f'Original training set: {X_train_scaled.shape[0]:,} samples')\n",
    "print(f'Balanced training set: {X_train_balanced.shape[0]:,} samples')\n",
    "print(f'Original churn rate: {y_train.mean():.2%}')\n",
    "print(f'Balanced churn rate: {y_train_balanced.mean():.2%}')\n",
    "\n",
    "# Visualize class distribution\n",
    "fig, axes = plt.subplots(1, 2, figsize=(12, 5))\n",
    "\n",
    "# Before SMOTE\n",
    "y_train.value_counts().plot(kind='bar', ax=axes[0], color=['lightcoral', 'lightblue'])\n",
    "axes[0].set_title('Before SMOTE', fontweight='bold')\n",
    "axes[0].set_xlabel('Churn')\n",
    "axes[0].set_ylabel('Count')\n",
    "axes[0].tick_params(axis='x', rotation=0)\n",
    "\n",
    "# After SMOTE\n",
    "pd.Series(y_train_balanced).value_counts().plot(kind='bar', ax=axes[1], color=['lightcoral', 'lightblue'])\n",
    "axes[1].set_title('After SMOTE', fontweight='bold')\n",
    "axes[1].set_xlabel('Churn')\n",
    "axes[1].set_ylabel('Count')\n",
    "axes[1].tick_params(axis='x', rotation=0)\n",
    "\n",
    "plt.tight_layout()\n",
    "plt.show()"
   ]
  },
  {
   "cell_type": "markdown",
   "id": "2894acea",
   "metadata": {},
   "source": [
    "## 6. Save Preprocessed Data"
   ]
  },
  {
   "cell_type": "code",
   "execution_count": 28,
   "id": "986cc22c",
   "metadata": {},
   "outputs": [
    {
     "name": "stdout",
     "output_type": "stream",
     "text": [
      "Preprocessed data saved successfully!\n",
      "\n",
      " PREPROCESSING SUMMARY:\n",
      "==============================\n",
      "• User segments created: 4\n",
      "• New features engineered: 11\n",
      "• Training samples (balanced): 4,248\n",
      "• Test samples: 630\n",
      "• Total features: 24\n",
      "• Data ready for model training!\n"
     ]
    }
   ],
   "source": [
    "# Save preprocessed data for model training\n",
    "import pickle\n",
    "\n",
    "# Save all preprocessing objects\n",
    "preprocessing_data = {\n",
    "    'X_train_balanced': X_train_balanced,\n",
    "    'X_test_scaled': X_test_scaled,\n",
    "    'y_train_balanced': y_train_balanced,\n",
    "    'y_test': y_test,\n",
    "    'feature_columns': feature_columns,\n",
    "    'scaler': scaler,\n",
    "    'df_processed': df_processed\n",
    "}\n",
    "\n",
    "with open('preprocessed_data.pkl', 'wb') as f:\n",
    "    pickle.dump(preprocessing_data, f)\n",
    "\n",
    "print('Preprocessed data saved successfully!')\n",
    "print('\\n PREPROCESSING SUMMARY:')\n",
    "print('=' * 30)\n",
    "print(f'• User segments created: {optimal_k}')\n",
    "print(f'• New features engineered: {len(df_processed.columns) - len(df.columns)}')\n",
    "print(f'• Training samples (balanced): {X_train_balanced.shape[0]:,}')\n",
    "print(f'• Test samples: {X_test_scaled.shape[0]:,}')\n",
    "print(f'• Total features: {len(feature_columns)}')\n",
    "print('• Data ready for model training!')"
   ]
  }
 ],
 "metadata": {
  "kernelspec": {
   "display_name": "base",
   "language": "python",
   "name": "python3"
  },
  "language_info": {
   "codemirror_mode": {
    "name": "ipython",
    "version": 3
   },
   "file_extension": ".py",
   "mimetype": "text/x-python",
   "name": "python",
   "nbconvert_exporter": "python",
   "pygments_lexer": "ipython3",
   "version": "3.12.2"
  }
 },
 "nbformat": 4,
 "nbformat_minor": 5
}
